{
 "cells": [
  {
   "cell_type": "markdown",
   "metadata": {},
   "source": [
    "## Analysis of human genome paired end Illumina reads\n",
    "\n",
    "## Pipeline for Read Mapping and Visualization\n",
    "\n",
    "* **Create the BWA Index** for the human hg38, chr 1 reference genome\n",
    "    \n",
    "    * For a small genome < 2 Gbases, use the **is** argument.  \n",
    "      For example, hg38 chromosome 1 is ~250,000,000 nucleotides long.\n",
    "\n",
    "    * For a large genome > 2GBases, use **bwtsw** argument.  \n",
    "      For example hg38 is ~3,000,000,000 nucleotides long.\n",
    "    \n",
    "    * Parameters  \n",
    "      * **-a** algorithm type, either **is** or **bwtsw**"
   ]
  },
  {
   "cell_type": "markdown",
   "metadata": {},
   "source": []
  },
  {
   "cell_type": "code",
   "execution_count": null,
   "metadata": {},
   "outputs": [],
   "source": [
    "#create index for chromosome 1\n",
    "#time: up to four minutes\n",
    "!bwa index -a is chr1.fa\n",
    "\n",
    "#create index for the entire genome \n",
    "#uncomment only if instructed to, this will take a long time\n",
    "#!bwa index -a bwtsw hg38.fa\n",
    "\n",
    "#check that files were created\n",
    "!ls -ltr chr1.*    "
   ]
  },
  {
   "cell_type": "markdown",
   "metadata": {},
   "source": [
    "* **Rename data files** to make the names shorter"
   ]
  },
  {
   "cell_type": "code",
   "execution_count": null,
   "metadata": {},
   "outputs": [],
   "source": [
    "#copy and rename paired end files\n",
    "!cp 071112_HWI-EAS192_0003_FC13191_PE_L1_YHPE_PE1.fq.gz yanhuang_PE1.fq.gz\n",
    "!cp 071112_HWI-EAS192_0003_FC13191_PE_L1_YHPE_PE2.fq.gz yanhuang_PE2.fq.gz\n",
    "\n",
    "#check that files were created\n",
    "!ls -ltr yanhuang*    "
   ]
  },
  {
   "cell_type": "markdown",
   "metadata": {},
   "source": [
    "* **Use BWA aln to map the read data** to human chromosome 1  \n",
    "    \n",
    "    **Parameters** are as follows:\n",
    "    * **-n** maximum number of differences allowed between the read and the mapped location, here, 4% of the read length (default is 0.04)\n",
    "    * **-o** maximum number of gap starts allowed (default is 1)\n",
    "    * **-e** maximum number of gap extensions allowed (default is -1 means single character gaps)\n",
    "    * **-t** number of threads (perhaps set to number of processor cores)\n",
    "    * **files**\n",
    "         * **chr1.fa** – reference fasta file\n",
    "         * **yanhuang_PE1.fq.gz** – read data file in gzipped fastq format\n",
    "         * **outyh1.sai** – output file (sai means suffix array indices)."
   ]
  },
  {
   "cell_type": "code",
   "execution_count": null,
   "metadata": {},
   "outputs": [],
   "source": [
    "#map first reads of pairs\n",
    "#time: at least two minutes\n",
    "!bwa aln -n 0.04 -o 2 -e -1 -t 1 chr1.fa yanhuang_PE1.fq.gz > outyh1.sai\n",
    "\n",
    "#map second reads of pairs\n",
    "time: at least two minutes\n",
    "!bwa aln -n 0.04 -o 2 -e -1 -t 1 chr1.fa yanhuang_PE2.fq.gz > outyh2.sai\n",
    "\n",
    "#check that files were created (*.sai)\n",
    "!ls -ltr outyh*    "
   ]
  },
  {
   "cell_type": "markdown",
   "metadata": {},
   "source": [
    "* **Produce the SAM file output**  \n",
    "  For **single reads** (not paired end), use **bwa samse**  \n",
    "  For **paired end reads**, use the **bwa sampe**\n",
    "\n",
    "  **Parameters** are as follows:\n",
    "  * **-n** maximum number of best alignments to report (default is 3)\n",
    "  * **files**\n",
    "      * **chr1.fa** – reference fasta file\n",
    "      * **outyh1.sai, outyh2.sai** - ???\n",
    "      * **yanhuang_PE1.fq.gz,yanhuang_PE2.fq.gz** – read data file in fastq format (Note this file could be compressed, for example data.fastq.gz)\n",
    "      * **alignmentsyh.sam** – SAM output file (this name is arbitrary)\n",
    "      * for sampe, use two pairs of input .sai and .fastq files.    "
   ]
  },
  {
   "cell_type": "code",
   "execution_count": null,
   "metadata": {},
   "outputs": [],
   "source": [
    "#produce sam file output\n",
    "!bwa sampe -n 3 chr1.fa outyh1.sai outyh2.sai yanhuang_PE1.fq.gz yanhuang_PE2.fq.gz> alignmentsyh.sam\n",
    "\n",
    "#check that files were created \n",
    "!ls -ltr alignmentsyh.sam    "
   ]
  },
  {
   "cell_type": "markdown",
   "metadata": {},
   "source": [
    "* **Convert SAM to BAM** using the samtools **view** operation. BAM is a compressed version of SAM.\n",
    "\n",
    "    **Parameters** are as follows:\n",
    "    * **-b** output is in .bam format\n",
    "    * **S** input is in .sam format and the SAM file contains header lines which give the length of each chromosome as above, for example: @SQ SN:chr1 LN:249250621\n",
    "\n",
    "    * **files** \n",
    "        * **alignmentsyh.sam** – input paired end SAM alignment file\n",
    "        * **alignmentsyh.bam** - output paired end SAM alignment file\n",
    "\n"
   ]
  },
  {
   "cell_type": "code",
   "execution_count": null,
   "metadata": {},
   "outputs": [],
   "source": [
    "# convert paired end read sam file to bam file\n",
    "!samtools view -bS alignmentsyh.sam > alignmentsyh.bam\n",
    "\n",
    "# check that new files were created\n",
    "!ls -ltr alignmentsyh.bam"
   ]
  },
  {
   "cell_type": "markdown",
   "metadata": {},
   "source": [
    "**THE NEXT OPERATION IS NECESSARY ONLY IF THE SAM FILE \n",
    "DID NOT CONTAIN HEADER LINES WITH THE LENGTH OF EACH CHROMOSOME**\n",
    "\n",
    "* **Create index file** with lengths of chromosomes using samtools **faidx** operation  \n",
    "\n",
    "* **Convert SAM to BAM** using the samtools **view** operation. BAM is a compressed version of SAM.\n",
    "\n",
    "    **Parameters** are as follows:\n",
    "    * **-b** output is in .bam format\n",
    "    * **-t** use an index file for chromosome lengths, each line contains a reference name and the length of the reference\n",
    "\n",
    "    * **files** \n",
    "        * **chr1.fa** - source genome fasta file\n",
    "        * **alignmentsyh.sam** – input paired end SAM alignment file\n",
    "        * **alignmentsyh.bam** - output paired end SAM alignment file"
   ]
  },
  {
   "cell_type": "code",
   "execution_count": null,
   "metadata": {
    "collapsed": true
   },
   "outputs": [],
   "source": [
    "#uncomment commands in this cell only if needed as stated above\n",
    "\n",
    "# create index file named .fai  \n",
    "#!samtools faidx chr1.fa\n",
    "\n",
    "# *check that new file was created  \n",
    "#!ls -ltr *.fai\n",
    "\n",
    "# convert sam file to bam file  \n",
    "#!samtools view -bt chr1.fa.fai alignments.sam > alignments.bam\n",
    " \n",
    "# check that new files were created \n",
    "#!ls -ltr *.bam"
   ]
  },
  {
   "cell_type": "markdown",
   "metadata": {},
   "source": [
    "* **Sort the BAM file** using the samtools **sort** function\n",
    "\n",
    "    This command sorts the reads by chromosome and position.\n",
    "\n",
    "    **Note that .bam will be appended to the end of the output file name. Do not put .bam at the end of the name**"
   ]
  },
  {
   "cell_type": "code",
   "execution_count": null,
   "metadata": {},
   "outputs": [],
   "source": [
    "# sort the bam file\n",
    "!samtools sort alignmentsyh.bam -o alignmentsyh.sorted \n",
    "\n",
    "# check that new file was created\n",
    "!ls -ltr alignmentsyh.sorted.bam"
   ]
  },
  {
   "cell_type": "markdown",
   "metadata": {},
   "source": [
    "* **Index the BAM file** using the samtools **index** function\n",
    "\n",
    "    This command creates a .bai index file for fast lookup of the reads by chromosome and position.  \n",
    "    \n",
    "    **It produces a .bai index file that is used to quickly locate the reads, for example, by the IGV viewer**."
   ]
  },
  {
   "cell_type": "code",
   "execution_count": null,
   "metadata": {},
   "outputs": [],
   "source": [
    "#index the paired end read sorted bam file\n",
    "!samtools index alignmentsyh.sorted.bam \n",
    "\n",
    "# check that new files were created\n",
    "!ls -ltr alignmentsyh.sorted.bam.bai"
   ]
  },
  {
   "cell_type": "markdown",
   "metadata": {},
   "source": [
    "* **Check the number of reads mapped** using the samtools **idxstats** function\n",
    "\n",
    "    **Output is chromosome name, length, number of reads mapped, and number of reads not mapped.**"
   ]
  },
  {
   "cell_type": "code",
   "execution_count": null,
   "metadata": {},
   "outputs": [],
   "source": [
    "#print headers for the ouput\n",
    "!echo \"\\nPaired end reads\"\n",
    "!echo \"chr     length          mapped  not_mapped\"\n",
    "\n",
    "#check reads mapped in the paired end read sorted bam file\n",
    "!samtools idxstats alignmentsyh.sorted.bam"
   ]
  },
  {
   "cell_type": "markdown",
   "metadata": {},
   "source": [
    "**Optional** if bam files are produced separately\n",
    "* **Merge bam files** using samtools **merge** function \n",
    "    * **files**\n",
    "        * **alignments.together.bam** - output alignment file\n",
    "        * **alignments1.sorted.bam, alignments2.sorted.bam** - input alignment files"
   ]
  },
  {
   "cell_type": "code",
   "execution_count": null,
   "metadata": {
    "collapsed": true
   },
   "outputs": [],
   "source": [
    "#optional, only uncomment if there are multiple bam files\n",
    "\n",
    "# merge alignment files\n",
    "#!samtools merge alignments.together.bam\n",
    "\n",
    "# check that new file was created\n",
    "#!ls -ltr *.together.*"
   ]
  },
  {
   "cell_type": "markdown",
   "metadata": {},
   "source": [
    "* **Extract** alignments for a particular region from BAM/SAM using samtools **view** function\n",
    "\n",
    "    Specified either as a **chromosome** or as a **chromosome and a range** \n",
    "    \n",
    "    To use this **with IGV**, produce a **separate index file** using **samtools index** command\n"
   ]
  },
  {
   "cell_type": "code",
   "execution_count": null,
   "metadata": {},
   "outputs": [],
   "source": [
    "# extract alignments for entire chromosome 1\n",
    "!samtools view -b alignmentsyh.sorted.bam chr1 > alignmentsyh.sorted.chr1.bam\n",
    "                        \n",
    "#extract alignments for a range within chromosome 1    \n",
    "!samtools view -b alignmentsyh.sorted.bam chr1:100000000-200000000 > alignmentsyh.sorted.chr1.100Mto200M.bam\n",
    "\n",
    "# check that new files were created\n",
    "!ls -ltr *.chr1*bam\n",
    "\n",
    "#index the paired end chromosome 1 alignments bam file\n",
    "!samtools index alignmentsyh.sorted.chr1.bam\n",
    "\n",
    "#index the paired end range within chromosome 1 alignments bam file\n",
    "!samtools index alignmentsyh.sorted.chr1.100Mto200M.bam\n",
    "\n",
    "# check that new files were created\n",
    "!ls -ltr *chr1*bai"
   ]
  },
  {
   "cell_type": "markdown",
   "metadata": {},
   "source": [
    "* **View mapped reads in the Integrated Genomics Viewer (IGV)**\n",
    "\n",
    "    * **Start IGV** by clicking on the webstart file or icon.   \n",
    "    Use of IGV may require resetting security parameters for Java.  \n",
    "    Shows mapped sequencing reads (and other data) along a reference genome. \n",
    "    \n",
    "    * **Orientation:**\n",
    "        1. **Load reference genome:** In menu box at upper left, select **hg38**  \n",
    "        2. **Choose chromosome:** In second text box upper left choose **chr 1**\n",
    "        3. **Load data:** in menu select File->Load from File\n",
    "            * choose alignmentsyh.sorted.chr1.bam\n",
    "        4. **Choose an interval**\n",
    "            * click on chromosome image\n",
    "            * use zoom slider bar on upper right\n",
    "            * user Go text box in upper middle \n",
    "                * use chr1:117,147,212-117,170,177  \n",
    "            * drag view left and right with mouse\n",
    "            * Sequence is visible only at higher zoom\n",
    "        5. **View refseq genes** in the bottom feature area  \n",
    "            * click on refseq gene track to go to Genbank data\n",
    "        6. **Add more features**  \n",
    "            * use File>Load from server\n",
    "            * Available Datasets>Annotations> Variation and Repeats->dbSNP 1.3.7\n",
    "        7. **Get more information** \n",
    "            * Cursor hover over features\n",
    "        8. **Options** using right click\n",
    "            * Paired reads have same color\n",
    "            * View as pairs shows pairs with line connecting them\n",
    "            * Change read colors based on insert size and/or read orientation6. "
   ]
  }
 ],
 "metadata": {
  "anaconda-cloud": {},
  "kernelspec": {
   "display_name": "Python 3",
   "language": "python",
   "name": "python3"
  },
  "language_info": {
   "codemirror_mode": {
    "name": "ipython",
    "version": 3
   },
   "file_extension": ".py",
   "mimetype": "text/x-python",
   "name": "python",
   "nbconvert_exporter": "python",
   "pygments_lexer": "ipython3",
   "version": "3.6.4"
  }
 },
 "nbformat": 4,
 "nbformat_minor": 1
}
