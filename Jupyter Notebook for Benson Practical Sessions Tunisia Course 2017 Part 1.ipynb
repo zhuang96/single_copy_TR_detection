{
 "cells": [
  {
   "cell_type": "markdown",
   "metadata": {},
   "source": [
    "## Analysis of Leishmania donovani single and paired end Illumina reads\n",
    "\n",
    "## Convert SRA files to FASTQ\n"
   ]
  },
  {
   "cell_type": "markdown",
   "metadata": {},
   "source": [
    "**File for this session** are saved at /BGA2017/Course_material/June13/  \n",
    "\n",
    "The following command links those files to your directory for use with this worksheet.\n"
   ]
  },
  {
   "cell_type": "code",
   "execution_count": null,
   "metadata": {},
   "outputs": [],
   "source": [
    "# establish links to all files for the session\n",
    "!ln -s /BGA2017/Course_material/June13/* ."
   ]
  },
  {
   "cell_type": "markdown",
   "metadata": {},
   "source": [
    "*\tRun **fastq-dump** on the .sra file.  \n",
    "    **--gzip option** puts it in gzip form to save space.   \n",
    "    **--split-files** makes two files for paired end reads with suffixes _1 and _2.  \n",
    "    \n",
    "    This produces fastq.gz files with the same name. "
   ]
  },
  {
   "cell_type": "code",
   "execution_count": null,
   "metadata": {},
   "outputs": [],
   "source": [
    "#single read file\n",
    "#time: 10+ minutes\n",
    "#creates file SRR1254937.fastq.gzip\n",
    "#!fastq-dump --gzip  SRR1254937.sra\n"
   ]
  },
  {
   "cell_type": "code",
   "execution_count": null,
   "metadata": {},
   "outputs": [],
   "source": [
    "#paired end reads file\n",
    "#time: 10+ minutes\n",
    "#creates files SRR1254938_1.fastq.gzip and SRR1254938_2.fastq.gzip\n",
    "#!fastq-dump --gzip --split-files SRR1254938.sra\n"
   ]
  },
  {
   "cell_type": "code",
   "execution_count": null,
   "metadata": {},
   "outputs": [],
   "source": [
    "#check that new files exist\n",
    "!ls -Lltr SRR*"
   ]
  },
  {
   "cell_type": "markdown",
   "metadata": {},
   "source": [
    "* *For our demonstration*, we use **gunzip** to capture the first 10,000 fastq reads from each gzip file into separate (much smaller files).  \n",
    "\n",
    "    * Note the –c option leaves the original file compressed.  Also, gunzip looks for a file with .gz suffix, so it doesn’t have to be specified in the file name.  \n",
    "    \n",
    "    * ** \" | \" ** is the pipe symbol which carries the output from one operation (gunzip) into the input of the next operation (head).  \n",
    "    \n",
    "    * **head -40000** puts the first 40,000 lines into the new file (each read is 4 lines). \n",
    "\n",
    " **Ignore \"Broken pipe\" errors** if they occur, it is a system problem.  Use **ls** below to check that files were created.\n"
   ]
  },
  {
   "cell_type": "code",
   "execution_count": null,
   "metadata": {},
   "outputs": [],
   "source": [
    "#single read file, first 10,000 reads\n",
    "!gunzip -c SRR1254937.fastq | head -40000 > SRR1254937.first10000.fastq\n",
    "\n",
    "#paired end reads files, first 10,000 reads from each\n",
    "!gunzip -c SRR1254938_1.fastq | head -40000 > SRR1254938_1.first10000.fastq\n",
    "\n",
    "!gunzip -c SRR1254938_2.fastq | head -40000 > SRR1254938_2.first10000.fastq\n",
    "\n",
    "!gunzip -c SRR1254938_1.fastq | head -4000000 > SRR1254938_1.first10000.fastq\n",
    "\n",
    "!gunzip -c SRR1254938_2.fastq | head -4000000 > SRR1254938_2.first10000.fastq\n",
    "#ignore Broken pipe errors. \n",
    "\n",
    "#check that new files exist\n",
    "!ls -Lltr SRR*"
   ]
  },
  {
   "cell_type": "markdown",
   "metadata": {},
   "source": [
    "## Pipeline for Read Mapping and Visualization\n"
   ]
  },
  {
   "cell_type": "markdown",
   "metadata": {},
   "source": [
    "*  First **copy the genome fasta file** and use a name that is smaller to simplify commands."
   ]
  },
  {
   "cell_type": "code",
   "execution_count": null,
   "metadata": {},
   "outputs": [],
   "source": [
    "#create a new genome file with a smaller name\n",
    "!cp TriTrypDB-32_LdonovaniBPK282A1_Genome.fasta LdBPK282A1.fa\n",
    "\n",
    "#check that new files exist\n",
    "!ls -ltr *.fa"
   ]
  },
  {
   "cell_type": "markdown",
   "metadata": {},
   "source": [
    "* **Create the BWA Index** for the Leishmania donovani BPK282A1 reference genome  \n",
    "\n",
    "    For a small genome < 2 Gbases use the \"**is**\" argument.  \n",
    "    For example, Leishmania donovani BPK282A1, which is only partially reconstructed and contains 36 contigs is 32,444,968 nucleotides long.  \n"
   ]
  },
  {
   "cell_type": "code",
   "execution_count": null,
   "metadata": {},
   "outputs": [],
   "source": [
    "#time: up to 30 seconds\n",
    "!bwa index -a is LdBPK282A1.fa\n",
    "\n",
    "#check that new files exist\n",
    "!ls -ltr LdBPK282A1.*"
   ]
  },
  {
   "cell_type": "markdown",
   "metadata": {},
   "source": [
    "* Use **BWA aln** to map the read data to the *Leishmania* genome  \n",
    "\n",
    "    **Parameters** are as follows:  \n",
    "    * **-n**\tmaximum number of differences allowed between the read and the mapped location, here, 4% of the read length (default is 0.04)  \n",
    "    * **-o**\tmaximum number of gap starts allowed (default is 1)  \n",
    "    * **-e**\tmaximum number of gap extensions allowed (default is -1 means single \tcharacter gaps)  \n",
    "    * **-t** \tnumber of threads (perhaps set to number of processor cores)  \n",
    "    * **files**\t\n",
    "        * **LdBPK282A1.fa** – reference fasta file  \n",
    "        * **SRR1254937.first10000.fastq** – read data file in fastq format (note the fastq input file could be compressed, for example data.fastq.gz)\n",
    "        * **SRR1254937.sai** – output file (sai means **suffix array indices**).\n",
    "\n"
   ]
  },
  {
   "cell_type": "code",
   "execution_count": null,
   "metadata": {},
   "outputs": [],
   "source": [
    "#these steps are fast because the files only contain 10,000 reads each\n",
    "\n",
    "#align single reads file\n",
    "!bwa aln -n 0.04 -o 2 -e -1 -t 7 LdBPK282A1.fa SRR1254937.first10000.fastq > outSRR1254937.sai\n",
    "\n",
    "#align paired end reads file\n",
    "!bwa aln -n 0.04 -o 2 -e -1 -t 7 LdBPK282A1.fa SRR1254938_1.first10000.fastq > outSRR1254938_1.sai\n",
    "\n",
    "#align paired end reads file\n",
    "!bwa aln -n 0.04 -o 2 -e -1 -t 7 LdBPK282A1.fa SRR1254938_2.first10000.fastq > outSRR1254938_2.sai\n",
    "\n",
    "#check that new files exist\n",
    "!ls -ltr *.sai"
   ]
  },
  {
   "cell_type": "markdown",
   "metadata": {},
   "source": [
    "* Produce the **SAM file output**\n",
    "    * For **single reads** (not paired end), use **bwa samse**\n",
    "    * For **paired end reads**, use the **bwa sampe**\n",
    "    \n",
    "  **Parameters** are as follows:  \n",
    "     * **-n** maximum number of best alignments to report (default is 3)  \n",
    "     * **files**\n",
    "         * **LdBPK282A1.fa** – reference fasta file \n",
    "         * **outSRR1254937.sai** – file with the suffix array indices created by the \n",
    "\tbwa aln command\n",
    "         * **SRR1254937.first10000.fastq** – read data file in fastq format (Note this file could be compressed, for example data.fastq.gz)\n",
    "         * **alignmentsSRR1254937.sam** – SAM output file (this name is arbitrary)\n",
    "\n",
    "  for sampe, use two pairs of input .sai and .fastq files.\n"
   ]
  },
  {
   "cell_type": "code",
   "execution_count": null,
   "metadata": {},
   "outputs": [],
   "source": [
    "#Single reads\n",
    "!bwa samse -n 3 LdBPK282A1.fa outSRR1254937.sai SRR1254937.first10000.fastq > alignmentsSRR1254937.sam\n",
    "\n",
    "#Paired end reads\n",
    "!bwa sampe -n 3 LdBPK282A1.fa outSRR1254938_1.sai outSRR1254938_2.sai SRR1254938_1.first10000.fastq SRR1254938_2.first10000.fastq > alignmentsSRR1254938.sam\n",
    "\n",
    "#check that new files exist\n",
    "!ls -ltr *.sam"
   ]
  },
  {
   "cell_type": "markdown",
   "metadata": {},
   "source": [
    "## Samtools file format\n",
    "\n",
    "**Compare the output for one line of the sam file to the format tables below.**"
   ]
  },
  {
   "cell_type": "code",
   "execution_count": null,
   "metadata": {},
   "outputs": [],
   "source": [
    "#prints line 40\n",
    "!awk '(NR==1){print \"Header line with chromsome name and length:\\n\"$0\"\\n\";exit}' alignmentsSRR1254937.sam\n",
    "!awk '(NR==40){print \"Data line with the following fields:\\n\"$0\"\\n\";exit}' alignmentsSRR1254937.sam\n",
    "\n",
    "#names individual fields\n",
    "!awk '(NR==40){print \" 1 Query name:         \"$1\" (read name)\"; exit}' alignmentsSRR1254937.sam\n",
    "!awk '(NR==40){print \" 2 Flag:               \"$2\"           (indicates reverse complement)\"; exit}' alignmentsSRR1254937.sam\n",
    "!awk '(NR==40){print \" 3 Reference name:     \"$3\"   (chromosome LD23)\"; exit}' alignmentsSRR1254937.sam\n",
    "!awk '(NR==40){print \" 4 Pos:                \"$4\"          (mapped position)\"; exit}' alignmentsSRR1254937.sam\n",
    "!awk '(NR==40){print \" 5 MapQ:               \"$5\"           (range is ???-???)\"; exit}' alignmentsSRR1254937.sam\n",
    "!awk '(NR==40){print \" 6 Cigar:              \"$6\"          (indicates 36 matches)\"; exit}' alignmentsSRR1254937.sam\n",
    "!awk '(NR==40){print \" 7 RNext:              \"$7\"            (no mate pair)\"; exit}' alignmentsSRR1254937.sam\n",
    "!awk '(NR==40){print \" 8 PNext:              \"$8\"            (no mate pair)\"; exit}' alignmentsSRR1254937.sam\n",
    "!awk '(NR==40){print \" 9 Tlen:               \"$9\"            (no mate pair)\"; exit}' alignmentsSRR1254937.sam\n",
    "!awk '(NR==40){print \"10 Seq:                \"$10\" (read sequence)\"; exit}' alignmentsSRR1254937.sam\n",
    "!awk '(NR==40){print \"11 Qual:               \"$11\" (read quality per position)\"; exit}' alignmentsSRR1254937.sam\n",
    "!awk '(NR==40){print \"1 Optional Fields:     \"$12,$13,$14,$15,$16,$17,$18,$19}' alignmentsSRR1254937.sam\n"
   ]
  },
  {
   "cell_type": "markdown",
   "metadata": {},
   "source": [
    "### Samtools format\n",
    "\n",
    "![title](samtoolsp1.png)\n",
    "![title](samtoolsp2.png)\n"
   ]
  },
  {
   "cell_type": "markdown",
   "metadata": {
    "collapsed": true
   },
   "source": [
    "* **Convert SAM to BAM** using the samtools **view** operation. BAM is a compressed version of SAM.\n",
    "\n",
    "    **Parameters** are as follows:\n",
    "    * **-b** output is in .bam format\n",
    "    * **S** input is in .sam format and the SAM file contains header lines which give the length of each chromosome as above, for example: @SQ     SN:Ld35_v01s1   LN:2113966\n",
    "\n",
    "    * **files** \n",
    "        * **alignmentsSRR1254937.sam** – input single end SAM alignment file\n",
    "        * **alignmentsSRR1254937.bam** – output single end BAM alignment file  \n",
    "        \n",
    "        * **alignmentsSRR1254938.sam** - input paired end SAM alignment file\n",
    "        * **alignmentsSRR1254938.bam** - output paired end SAM alignment file\n",
    "\n"
   ]
  },
  {
   "cell_type": "code",
   "execution_count": null,
   "metadata": {},
   "outputs": [],
   "source": [
    "# convert single read sam file to bam file\n",
    "!samtools view -bS alignmentsSRR1254937.sam > alignmentsSRR1254937.bam\n",
    "\n",
    "# convert paired end read sam file to bam file\n",
    "!samtools view -bS alignmentsSRR1254938.sam > alignmentsSRR1254938.bam\n",
    "\n",
    "# check that new files were created\n",
    "!ls -ltr *.bam"
   ]
  },
  {
   "cell_type": "markdown",
   "metadata": {},
   "source": [
    "* **Sort the BAM file** using the samtools **sort** function\n",
    "\n",
    "    This command sorts the reads by chromosome and position.\n",
    "\n",
    "    **Note that .bam will be appended to the end of the output file name. Do not put .bam at the end of the name**"
   ]
  },
  {
   "cell_type": "markdown",
   "metadata": {},
   "source": [
    "this is what happened next\n"
   ]
  },
  {
   "cell_type": "code",
   "execution_count": null,
   "metadata": {},
   "outputs": [],
   "source": [
    "#sort the single end read alignment file\n",
    "!samtools sort alignmentsSRR1254937.bam -o alignmentsSRR1254937.sorted.bam\n",
    "\n",
    "#sort the paired end read alignment file\n",
    "!samtools sort alignmentsSRR1254938.bam -o alignmentsSRR1254938.sorted.bam\n",
    "\n",
    "# check that new files were created\n",
    "!ls -ltr *.bam"
   ]
  },
  {
   "cell_type": "markdown",
   "metadata": {},
   "source": [
    "* **Index the BAM file** using the samtools **index** function\n",
    "\n",
    "    This command makes an index for fast lookup of the reads by chromosome and position.  \n",
    "    \n",
    "    **It produces a .bai index file that is used to quickly locate the reads, for example, by the IGV viewer**.\n"
   ]
  },
  {
   "cell_type": "code",
   "execution_count": null,
   "metadata": {},
   "outputs": [],
   "source": [
    "!ls -ltr *.bam\n",
    "\n",
    "#index the single end read sorted bam file\n",
    "!samtools index alignmentsSRR1254937.sorted.bam\n",
    "\n",
    "#index the paired end read sorted bam file\n",
    "!samtools index alignmentsSRR1254938.sorted.bam\n",
    "\n",
    "# check that new files were created\n",
    "!ls -ltr *.bai"
   ]
  },
  {
   "cell_type": "markdown",
   "metadata": {},
   "source": [
    "* **Check the number of reads mapped** using the samtools **idxstats** function\n",
    "\n",
    "    **Output is chromosome name, length, number of reads mapped, and number of reads not mapped.**"
   ]
  },
  {
   "cell_type": "code",
   "execution_count": null,
   "metadata": {},
   "outputs": [],
   "source": [
    "#print headers for the ouput\n",
    "!echo \"Single end reads\"\n",
    "!echo \"chromosome      length  mapped  not_mapped\"\n",
    "\n",
    "#check reads mapped in the single end read sorted bam file\n",
    "!samtools idxstats alignmentsSRR1254937.sorted.bam\n",
    "\n",
    "#print headers for the ouput\n",
    "!echo \"\\nPaired end reads\"\n",
    "!echo \"chromosome      length  mapped  not_mapped\"\n",
    "\n",
    "#check reads mapped in the paired end read sorted bam file\n",
    "!samtools idxstats alignmentsSRR1254938.sorted.bam"
   ]
  },
  {
   "cell_type": "markdown",
   "metadata": {},
   "source": [
    "* **Extract alignments** for a particular region from BAM/SAM using the samtools **view** function\n",
    "\n",
    "    **Parameters** are as follows:\n",
    "    * **-b** output is in .bam format\n",
    "    * **file** - use sorted bam alignment file\n",
    "    * **region** - here we use chromosome Ld31_v01s1 which has the most reads mapped\n",
    " \n",
    " \n",
    "* **Index again**\n",
    "\n",
    "\n",
    "* **Check number of reads mapped**"
   ]
  },
  {
   "cell_type": "code",
   "execution_count": null,
   "metadata": {},
   "outputs": [],
   "source": [
    "#extract alignments from the single end read sorted bam file\n",
    "!samtools view -b alignmentsSRR1254937.sorted.bam Ld31_v01s1 > alignmentsSRR1254937.Ld31_v01s1.sorted.bam\n",
    "\n",
    "#extract lignments from the paired end read sorted bam file\n",
    "!samtools view -b alignmentsSRR1254938.sorted.bam Ld31_v01s1 > alignmentsSRR1254938.Ld31_v01s1.sorted.bam\n",
    "\n",
    "#check that new files were created\n",
    "!ls -ltr *.Ld31*\n",
    "\n",
    "#index new files\n",
    "#single end\n",
    "!samtools index alignmentsSRR1254937.Ld31_v01s1.sorted.bam\n",
    "\n",
    "#paired end\n",
    "!samtools index alignmentsSRR1254938.Ld31_v01s1.sorted.bam\n",
    "\n",
    "#check again the number of reads mapped \n",
    "\n",
    "#print headers for the ouput\n",
    "!echo \"Single end reads\"\n",
    "!echo \"chromosome      length  mapped  not_mapped\"\n",
    "\n",
    "#single end\n",
    "!samtools idxstats alignmentsSRR1254937.Ld31_v01s1.sorted.bam\n",
    "\n",
    "#print headers for the ouput\n",
    "!echo \"\\nPaired end reads\"\n",
    "!echo \"chromosome      length  mapped  not_mapped\"\n",
    "\n",
    "#paired end\n",
    "!samtools idxstats alignmentsSRR1254938.Ld31_v01s1.sorted.bam"
   ]
  },
  {
   "cell_type": "markdown",
   "metadata": {},
   "source": [
    "* **View mapped reads in the Integrated Genomics Viewer (IGV)**\n",
    "\n",
    "    * **Start IGV** by clicking on the webstart file or icon.   \n",
    "    Use of IGV may require resetting security parameters for Java.  \n",
    "    Shows mapped sequencing reads (and other data) along a reference genome. \n",
    "    \n",
    "    * **Orientation:**\n",
    "        1. **Load reference genome:** In menu select Genomes -> Load Genome from File\n",
    "            * use LdBPK282A1.fa\n",
    "        2. **Choose chromosome:** In second text box from left at top choose **Ld31_v01s1**\n",
    "        3. **Load data:** in menu select File->Load from File\n",
    "            * choose alignmentsSRR1254937.Ld31_v01s1.sorted.bam\n",
    "        4. **Choose an interval**\n",
    "            * click on chromosome image\n",
    "            * use zoom slider bar on upper right\n",
    "            * user Go text box in upper middle \n",
    "                * use Ld31_v01s1:833,479-862,052 \n",
    "            * drag view left and right with mouse\n",
    "        5. Sequence is visible only at higher zoom\n",
    "        6. Mouse cursor on gray read bars shows read information\n",
    "        7. Scroll to 843,620 to see a probable SNP in the reference: \n",
    "            * T substituted in place of G.\n",
    "        8. For a paired alignment track, In menu choose \n",
    "            * View as Pairs\n",
    "            * Group alignment by none\n",
    "            * Sort alignment by start position\n"
   ]
  }
 ],
 "metadata": {
  "anaconda-cloud": {},
  "kernelspec": {
   "display_name": "Python 3",
   "language": "python",
   "name": "python3"
  },
  "language_info": {
   "codemirror_mode": {
    "name": "ipython",
    "version": 3
   },
   "file_extension": ".py",
   "mimetype": "text/x-python",
   "name": "python",
   "nbconvert_exporter": "python",
   "pygments_lexer": "ipython3",
   "version": "3.6.4"
  }
 },
 "nbformat": 4,
 "nbformat_minor": 1
}
